{
 "cells": [
  {
   "cell_type": "code",
   "execution_count": 37,
   "metadata": {},
   "outputs": [
    {
     "name": "stdout",
     "output_type": "stream",
     "text": [
      "[(6, '06', 'TEST TRANSACTION', 'ALPES-MARITIMES', 'alpes-maritimes', 'A41256352'), (8, '08', 'TEST TRANSACTION 2', 'ARDENNES', 'ardennes', 'A6352')]\n",
      "[(6, '06', 'TEST TRANSACTION', 'ALPES-MARITIMES', 'alpes-maritimes', 'A41256352'), (8, '08', 'TEST TRANSACTION 2', 'ARDENNES', 'ardennes', 'A6352')]\n"
     ]
    }
   ],
   "source": [
    "import mysql.connector \n",
    "from mysql.connector import errors\n",
    "\n",
    "try:\n",
    "    conn = mysql.connector.connect(host=\"localhost\",user=\"root\",password=\"\", database=\"exo01\")\n",
    "    conn.autocommit = False\n",
    "    cursor = conn.cursor()\n",
    "    \n",
    "    query_1 = \"SELECT * FROM departement WHERE departement_id = 6 OR departement_id = 8\"\n",
    "    cursor.execute(query_1)\n",
    "    \n",
    "    data = cursor.fetchall()\n",
    "    print(data)\n",
    "\n",
    "    conn.start_transaction()\n",
    "    sql_update_query_1 = \"UPDATE departement SET departement_nom = 'TEST TRANSACTION' WHERE departement_id = 6\"\n",
    "    sql_update_query_2 = \"UPDATE departement SET departement_nom = 'TEST TRANSACTION 2' WHERE departement_id = 8\"\n",
    "\n",
    "    cursor.execute(sql_update_query_1)\n",
    "    cursor.execute(sql_update_query_2)\n",
    "    \n",
    "    #conn.commit() \n",
    "    conn.rollback()\n",
    "    \n",
    "    \n",
    "    query_2 = \"SELECT * FROM departement WHERE departement_id = 6 OR departement_id = 8\"\n",
    "    cursor.execute(query_1)\n",
    "    \n",
    "    data_2 = cursor.fetchall()\n",
    "    print(data_2)\n",
    "\n",
    "except errors.Error as e:\n",
    "    conn.rollback()  # rollback changes\n",
    "    print(\"Rolling back ...\")\n",
    "    print(e)\n",
    "\n",
    "\n",
    "conn.close()"
   ]
  },
  {
   "cell_type": "code",
   "execution_count": null,
   "metadata": {},
   "outputs": [],
   "source": []
  },
  {
   "cell_type": "code",
   "execution_count": null,
   "metadata": {},
   "outputs": [],
   "source": []
  },
  {
   "cell_type": "code",
   "execution_count": null,
   "metadata": {},
   "outputs": [],
   "source": []
  },
  {
   "cell_type": "code",
   "execution_count": null,
   "metadata": {},
   "outputs": [],
   "source": []
  },
  {
   "cell_type": "code",
   "execution_count": null,
   "metadata": {},
   "outputs": [],
   "source": []
  },
  {
   "cell_type": "code",
   "execution_count": null,
   "metadata": {},
   "outputs": [],
   "source": []
  }
 ],
 "metadata": {
  "kernelspec": {
   "display_name": "Python 3",
   "language": "python",
   "name": "python3"
  },
  "language_info": {
   "codemirror_mode": {
    "name": "ipython",
    "version": 3
   },
   "file_extension": ".py",
   "mimetype": "text/x-python",
   "name": "python",
   "nbconvert_exporter": "python",
   "pygments_lexer": "ipython3",
   "version": "3.8.3"
  }
 },
 "nbformat": 4,
 "nbformat_minor": 4
}
